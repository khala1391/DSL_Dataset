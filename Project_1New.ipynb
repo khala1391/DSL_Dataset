{
 "cells": [
  {
   "cell_type": "code",
   "execution_count": 3,
   "id": "0849700b-ea37-49df-b542-f1219aaf766b",
   "metadata": {},
   "outputs": [],
   "source": [
    "import numpy as np\n",
    "import pandas as pd\n",
    "import matplotlib.pyplot as plt\n",
    "import seaborn as sns\n",
    "%matplotlib inline"
   ]
  },
  {
   "cell_type": "code",
   "execution_count": 4,
   "id": "2aafeb14-d356-4444-9119-b58ec893f361",
   "metadata": {},
   "outputs": [
    {
     "data": {
      "text/html": [
       "<div>\n",
       "<style scoped>\n",
       "    .dataframe tbody tr th:only-of-type {\n",
       "        vertical-align: middle;\n",
       "    }\n",
       "\n",
       "    .dataframe tbody tr th {\n",
       "        vertical-align: top;\n",
       "    }\n",
       "\n",
       "    .dataframe thead th {\n",
       "        text-align: right;\n",
       "    }\n",
       "</style>\n",
       "<table border=\"1\" class=\"dataframe\">\n",
       "  <thead>\n",
       "    <tr style=\"text-align: right;\">\n",
       "      <th></th>\n",
       "      <th>Temp_C</th>\n",
       "      <th>Dew Point Temp_C</th>\n",
       "      <th>Rel Hum_%</th>\n",
       "      <th>Wind Speed_km/h</th>\n",
       "      <th>Visibility_km</th>\n",
       "      <th>Press_kPa</th>\n",
       "      <th>Weather</th>\n",
       "    </tr>\n",
       "    <tr>\n",
       "      <th>Date/Time</th>\n",
       "      <th></th>\n",
       "      <th></th>\n",
       "      <th></th>\n",
       "      <th></th>\n",
       "      <th></th>\n",
       "      <th></th>\n",
       "      <th></th>\n",
       "    </tr>\n",
       "  </thead>\n",
       "  <tbody>\n",
       "    <tr>\n",
       "      <th>2012-01-01 00:00:00</th>\n",
       "      <td>-1.8</td>\n",
       "      <td>-3.9</td>\n",
       "      <td>86</td>\n",
       "      <td>4</td>\n",
       "      <td>8.0</td>\n",
       "      <td>101.24</td>\n",
       "      <td>Fog</td>\n",
       "    </tr>\n",
       "    <tr>\n",
       "      <th>2012-01-01 01:00:00</th>\n",
       "      <td>-1.8</td>\n",
       "      <td>-3.7</td>\n",
       "      <td>87</td>\n",
       "      <td>4</td>\n",
       "      <td>8.0</td>\n",
       "      <td>101.24</td>\n",
       "      <td>Fog</td>\n",
       "    </tr>\n",
       "    <tr>\n",
       "      <th>2012-01-01 02:00:00</th>\n",
       "      <td>-1.8</td>\n",
       "      <td>-3.4</td>\n",
       "      <td>89</td>\n",
       "      <td>7</td>\n",
       "      <td>4.0</td>\n",
       "      <td>101.26</td>\n",
       "      <td>Freezing Drizzle,Fog</td>\n",
       "    </tr>\n",
       "    <tr>\n",
       "      <th>2012-01-01 03:00:00</th>\n",
       "      <td>-1.5</td>\n",
       "      <td>-3.2</td>\n",
       "      <td>88</td>\n",
       "      <td>6</td>\n",
       "      <td>4.0</td>\n",
       "      <td>101.27</td>\n",
       "      <td>Freezing Drizzle,Fog</td>\n",
       "    </tr>\n",
       "    <tr>\n",
       "      <th>2012-01-01 04:00:00</th>\n",
       "      <td>-1.5</td>\n",
       "      <td>-3.3</td>\n",
       "      <td>88</td>\n",
       "      <td>7</td>\n",
       "      <td>4.8</td>\n",
       "      <td>101.23</td>\n",
       "      <td>Fog</td>\n",
       "    </tr>\n",
       "    <tr>\n",
       "      <th>...</th>\n",
       "      <td>...</td>\n",
       "      <td>...</td>\n",
       "      <td>...</td>\n",
       "      <td>...</td>\n",
       "      <td>...</td>\n",
       "      <td>...</td>\n",
       "      <td>...</td>\n",
       "    </tr>\n",
       "    <tr>\n",
       "      <th>2012-12-31 19:00:00</th>\n",
       "      <td>0.1</td>\n",
       "      <td>-2.7</td>\n",
       "      <td>81</td>\n",
       "      <td>30</td>\n",
       "      <td>9.7</td>\n",
       "      <td>100.13</td>\n",
       "      <td>Snow</td>\n",
       "    </tr>\n",
       "    <tr>\n",
       "      <th>2012-12-31 20:00:00</th>\n",
       "      <td>0.2</td>\n",
       "      <td>-2.4</td>\n",
       "      <td>83</td>\n",
       "      <td>24</td>\n",
       "      <td>9.7</td>\n",
       "      <td>100.03</td>\n",
       "      <td>Snow</td>\n",
       "    </tr>\n",
       "    <tr>\n",
       "      <th>2012-12-31 21:00:00</th>\n",
       "      <td>-0.5</td>\n",
       "      <td>-1.5</td>\n",
       "      <td>93</td>\n",
       "      <td>28</td>\n",
       "      <td>4.8</td>\n",
       "      <td>99.95</td>\n",
       "      <td>Snow</td>\n",
       "    </tr>\n",
       "    <tr>\n",
       "      <th>2012-12-31 22:00:00</th>\n",
       "      <td>-0.2</td>\n",
       "      <td>-1.8</td>\n",
       "      <td>89</td>\n",
       "      <td>28</td>\n",
       "      <td>9.7</td>\n",
       "      <td>99.91</td>\n",
       "      <td>Snow</td>\n",
       "    </tr>\n",
       "    <tr>\n",
       "      <th>2012-12-31 23:00:00</th>\n",
       "      <td>0.0</td>\n",
       "      <td>-2.1</td>\n",
       "      <td>86</td>\n",
       "      <td>30</td>\n",
       "      <td>11.3</td>\n",
       "      <td>99.89</td>\n",
       "      <td>Snow</td>\n",
       "    </tr>\n",
       "  </tbody>\n",
       "</table>\n",
       "<p>8784 rows × 7 columns</p>\n",
       "</div>"
      ],
      "text/plain": [
       "                     Temp_C  Dew Point Temp_C  Rel Hum_%  Wind Speed_km/h  \\\n",
       "Date/Time                                                                   \n",
       "2012-01-01 00:00:00    -1.8              -3.9         86                4   \n",
       "2012-01-01 01:00:00    -1.8              -3.7         87                4   \n",
       "2012-01-01 02:00:00    -1.8              -3.4         89                7   \n",
       "2012-01-01 03:00:00    -1.5              -3.2         88                6   \n",
       "2012-01-01 04:00:00    -1.5              -3.3         88                7   \n",
       "...                     ...               ...        ...              ...   \n",
       "2012-12-31 19:00:00     0.1              -2.7         81               30   \n",
       "2012-12-31 20:00:00     0.2              -2.4         83               24   \n",
       "2012-12-31 21:00:00    -0.5              -1.5         93               28   \n",
       "2012-12-31 22:00:00    -0.2              -1.8         89               28   \n",
       "2012-12-31 23:00:00     0.0              -2.1         86               30   \n",
       "\n",
       "                     Visibility_km  Press_kPa               Weather  \n",
       "Date/Time                                                            \n",
       "2012-01-01 00:00:00            8.0     101.24                   Fog  \n",
       "2012-01-01 01:00:00            8.0     101.24                   Fog  \n",
       "2012-01-01 02:00:00            4.0     101.26  Freezing Drizzle,Fog  \n",
       "2012-01-01 03:00:00            4.0     101.27  Freezing Drizzle,Fog  \n",
       "2012-01-01 04:00:00            4.8     101.23                   Fog  \n",
       "...                            ...        ...                   ...  \n",
       "2012-12-31 19:00:00            9.7     100.13                  Snow  \n",
       "2012-12-31 20:00:00            9.7     100.03                  Snow  \n",
       "2012-12-31 21:00:00            4.8      99.95                  Snow  \n",
       "2012-12-31 22:00:00            9.7      99.91                  Snow  \n",
       "2012-12-31 23:00:00           11.3      99.89                  Snow  \n",
       "\n",
       "[8784 rows x 7 columns]"
      ]
     },
     "execution_count": 4,
     "metadata": {},
     "output_type": "execute_result"
    }
   ],
   "source": [
    "url = 'https://github.com/khala1391/DSL_Dataset/raw/main/project_1_Weather_Dataset.csv'\n",
    "df = pd.read_csv( url , index_col='Date/Time', parse_dates=['Date/Time'])\n",
    "df"
   ]
  },
  {
   "cell_type": "code",
   "execution_count": 5,
   "id": "184fd479-8525-4374-9bcf-af9a242d6a91",
   "metadata": {},
   "outputs": [],
   "source": [
    "df.rename(columns={'Dew Point Temp_C':'Dew_Point_Temp_C',\\\n",
    "                   'Rel Hum_%':'Rel_Hum_%',\\\n",
    "                   'Wind Speed_km/h':'Wind_Speed_km/h'},\\\n",
    "                  inplace=True)"
   ]
  },
  {
   "cell_type": "code",
   "execution_count": 6,
   "id": "c2bd2934-dc57-424a-9e98-121729845520",
   "metadata": {},
   "outputs": [
    {
     "data": {
      "text/html": [
       "<div>\n",
       "<style scoped>\n",
       "    .dataframe tbody tr th:only-of-type {\n",
       "        vertical-align: middle;\n",
       "    }\n",
       "\n",
       "    .dataframe tbody tr th {\n",
       "        vertical-align: top;\n",
       "    }\n",
       "\n",
       "    .dataframe thead th {\n",
       "        text-align: right;\n",
       "    }\n",
       "</style>\n",
       "<table border=\"1\" class=\"dataframe\">\n",
       "  <thead>\n",
       "    <tr style=\"text-align: right;\">\n",
       "      <th></th>\n",
       "      <th>Temp_C</th>\n",
       "      <th>Dew_Point_Temp_C</th>\n",
       "      <th>Rel_Hum_%</th>\n",
       "      <th>Wind_Speed_km/h</th>\n",
       "      <th>Visibility_km</th>\n",
       "      <th>Press_kPa</th>\n",
       "      <th>Weather</th>\n",
       "    </tr>\n",
       "    <tr>\n",
       "      <th>Date/Time</th>\n",
       "      <th></th>\n",
       "      <th></th>\n",
       "      <th></th>\n",
       "      <th></th>\n",
       "      <th></th>\n",
       "      <th></th>\n",
       "      <th></th>\n",
       "    </tr>\n",
       "  </thead>\n",
       "  <tbody>\n",
       "    <tr>\n",
       "      <th>2012-01-01 00:00:00</th>\n",
       "      <td>-1.8</td>\n",
       "      <td>-3.9</td>\n",
       "      <td>86</td>\n",
       "      <td>4</td>\n",
       "      <td>8.0</td>\n",
       "      <td>101.24</td>\n",
       "      <td>Fog</td>\n",
       "    </tr>\n",
       "    <tr>\n",
       "      <th>2012-01-01 01:00:00</th>\n",
       "      <td>-1.8</td>\n",
       "      <td>-3.7</td>\n",
       "      <td>87</td>\n",
       "      <td>4</td>\n",
       "      <td>8.0</td>\n",
       "      <td>101.24</td>\n",
       "      <td>Fog</td>\n",
       "    </tr>\n",
       "    <tr>\n",
       "      <th>2012-01-01 02:00:00</th>\n",
       "      <td>-1.8</td>\n",
       "      <td>-3.4</td>\n",
       "      <td>89</td>\n",
       "      <td>7</td>\n",
       "      <td>4.0</td>\n",
       "      <td>101.26</td>\n",
       "      <td>Freezing Drizzle,Fog</td>\n",
       "    </tr>\n",
       "    <tr>\n",
       "      <th>2012-01-01 03:00:00</th>\n",
       "      <td>-1.5</td>\n",
       "      <td>-3.2</td>\n",
       "      <td>88</td>\n",
       "      <td>6</td>\n",
       "      <td>4.0</td>\n",
       "      <td>101.27</td>\n",
       "      <td>Freezing Drizzle,Fog</td>\n",
       "    </tr>\n",
       "    <tr>\n",
       "      <th>2012-01-01 04:00:00</th>\n",
       "      <td>-1.5</td>\n",
       "      <td>-3.3</td>\n",
       "      <td>88</td>\n",
       "      <td>7</td>\n",
       "      <td>4.8</td>\n",
       "      <td>101.23</td>\n",
       "      <td>Fog</td>\n",
       "    </tr>\n",
       "  </tbody>\n",
       "</table>\n",
       "</div>"
      ],
      "text/plain": [
       "                     Temp_C  Dew_Point_Temp_C  Rel_Hum_%  Wind_Speed_km/h  \\\n",
       "Date/Time                                                                   \n",
       "2012-01-01 00:00:00    -1.8              -3.9         86                4   \n",
       "2012-01-01 01:00:00    -1.8              -3.7         87                4   \n",
       "2012-01-01 02:00:00    -1.8              -3.4         89                7   \n",
       "2012-01-01 03:00:00    -1.5              -3.2         88                6   \n",
       "2012-01-01 04:00:00    -1.5              -3.3         88                7   \n",
       "\n",
       "                     Visibility_km  Press_kPa               Weather  \n",
       "Date/Time                                                            \n",
       "2012-01-01 00:00:00            8.0     101.24                   Fog  \n",
       "2012-01-01 01:00:00            8.0     101.24                   Fog  \n",
       "2012-01-01 02:00:00            4.0     101.26  Freezing Drizzle,Fog  \n",
       "2012-01-01 03:00:00            4.0     101.27  Freezing Drizzle,Fog  \n",
       "2012-01-01 04:00:00            4.8     101.23                   Fog  "
      ]
     },
     "execution_count": 6,
     "metadata": {},
     "output_type": "execute_result"
    }
   ],
   "source": [
    "df.head(5)"
   ]
  },
  {
   "cell_type": "code",
   "execution_count": 7,
   "id": "9ea07dff-4285-4cfc-a132-e7752bcac366",
   "metadata": {},
   "outputs": [
    {
     "name": "stdout",
     "output_type": "stream",
     "text": [
      "<class 'pandas.core.frame.DataFrame'>\n",
      "DatetimeIndex: 8784 entries, 2012-01-01 00:00:00 to 2012-12-31 23:00:00\n",
      "Data columns (total 7 columns):\n",
      " #   Column            Non-Null Count  Dtype  \n",
      "---  ------            --------------  -----  \n",
      " 0   Temp_C            8784 non-null   float64\n",
      " 1   Dew_Point_Temp_C  8784 non-null   float64\n",
      " 2   Rel_Hum_%         8784 non-null   int64  \n",
      " 3   Wind_Speed_km/h   8784 non-null   int64  \n",
      " 4   Visibility_km     8784 non-null   float64\n",
      " 5   Press_kPa         8784 non-null   float64\n",
      " 6   Weather           8784 non-null   object \n",
      "dtypes: float64(4), int64(2), object(1)\n",
      "memory usage: 549.0+ KB\n"
     ]
    }
   ],
   "source": [
    "df.info()"
   ]
  },
  {
   "cell_type": "code",
   "execution_count": null,
   "id": "107634e7-8a54-44db-836b-a8e90bf5b1a2",
   "metadata": {},
   "outputs": [],
   "source": [
    "df.isna().any(axis=1).sum()"
   ]
  },
  {
   "cell_type": "code",
   "execution_count": null,
   "id": "aedc3b46-e6db-402c-9212-77a3817476f5",
   "metadata": {},
   "outputs": [],
   "source": [
    "df.isnull().any(axis=1).sum()"
   ]
  },
  {
   "cell_type": "code",
   "execution_count": null,
   "id": "880ae064-74c0-4e88-a9a2-325e10d03169",
   "metadata": {},
   "outputs": [],
   "source": [
    "df.columns"
   ]
  },
  {
   "cell_type": "code",
   "execution_count": null,
   "id": "641b0455-15e3-403f-a6ee-44ae6f96ea3e",
   "metadata": {},
   "outputs": [],
   "source": [
    "df = df.astype({'Temp_C': 'float32',\\\n",
    "            'Dew_Point_Temp_C':'float32',\\\n",
    "            'Rel_Hum_%':'int32',\\\n",
    "            'Wind_Speed_km/h':'int32',\\\n",
    "            'Visibility_km':'float32',\\\n",
    "            'Press_kPa':'float32',\\\n",
    "           # 'Weather':'category'\n",
    "           })"
   ]
  },
  {
   "cell_type": "code",
   "execution_count": null,
   "id": "6ca4fea8-8fd2-43ed-9354-c29a50af82e1",
   "metadata": {},
   "outputs": [],
   "source": [
    "df.Weather.value_counts()"
   ]
  },
  {
   "cell_type": "code",
   "execution_count": null,
   "id": "e2b8cec6-3a14-44f7-892c-d107e23bfc4f",
   "metadata": {},
   "outputs": [],
   "source": [
    "df.hist(figsize=(10,8), bins=40);"
   ]
  },
  {
   "cell_type": "code",
   "execution_count": null,
   "id": "68e69395-a31b-458d-9fc5-8601567f726b",
   "metadata": {},
   "outputs": [],
   "source": [
    "df.describe().round(2).T"
   ]
  },
  {
   "cell_type": "code",
   "execution_count": null,
   "id": "97840c57-e4da-4793-8954-a51504932e4b",
   "metadata": {},
   "outputs": [],
   "source": [
    "df.corr(numeric_only=True).round(3).style.background_gradient(axis=1, vmin =0.5).highlight_min(axis=1, color='pink')"
   ]
  },
  {
   "cell_type": "code",
   "execution_count": null,
   "id": "e4ca4dfe-7221-4ada-9f26-5b1b26cc32ef",
   "metadata": {},
   "outputs": [],
   "source": [
    "type(df.Weather.value_counts()>100)"
   ]
  },
  {
   "cell_type": "code",
   "execution_count": null,
   "id": "179131c6-1092-4d62-81ce-f69f70d68f7c",
   "metadata": {},
   "outputs": [],
   "source": [
    "df_cut = pd.Series.to_frame(df.Weather.value_counts()>=150, name=\"selected\")"
   ]
  },
  {
   "cell_type": "code",
   "execution_count": null,
   "id": "853abecf-df45-4c70-bece-1bf49adea995",
   "metadata": {},
   "outputs": [],
   "source": [
    "df_cut.info()"
   ]
  },
  {
   "cell_type": "code",
   "execution_count": null,
   "id": "0ace5454-578a-45f7-b9d8-1c160ffa9b44",
   "metadata": {},
   "outputs": [],
   "source": [
    "df_cut = df_cut.loc[df_cut.selected].index"
   ]
  },
  {
   "cell_type": "code",
   "execution_count": null,
   "id": "97db95ac-6912-4a01-a8a3-ce9cb8d40ea5",
   "metadata": {},
   "outputs": [],
   "source": [
    "df_cut"
   ]
  },
  {
   "cell_type": "code",
   "execution_count": null,
   "id": "4e2b9654-ccbd-49b5-a4b1-d9cc763eea5b",
   "metadata": {},
   "outputs": [],
   "source": [
    "list = ['Mainly Clear', 'Mostly Cloudy', 'Cloudy', 'Clear', 'Snow','Rain', 'Rain Showers', 'Fog', 'Rain,Fog']"
   ]
  },
  {
   "cell_type": "code",
   "execution_count": null,
   "id": "fd246cc5-ec82-483e-b5b0-4d5fa30666aa",
   "metadata": {},
   "outputs": [],
   "source": [
    "df_cut = df[df['Weather'].isin(list)].copy()"
   ]
  },
  {
   "cell_type": "code",
   "execution_count": null,
   "id": "292fdd5b-c7b0-44f5-beee-d3a95997c57b",
   "metadata": {},
   "outputs": [],
   "source": [
    "df_cut['Weather'].value_counts()"
   ]
  },
  {
   "cell_type": "code",
   "execution_count": null,
   "id": "cb778ee6-0303-4777-9947-cd9c46e8524b",
   "metadata": {},
   "outputs": [],
   "source": [
    "df = df.astype({'Weather':'category'})\n",
    "df.info()"
   ]
  },
  {
   "cell_type": "code",
   "execution_count": null,
   "id": "69fb65f5-f2e1-46f4-b055-fa8c2a2fc1f6",
   "metadata": {},
   "outputs": [],
   "source": []
  },
  {
   "cell_type": "code",
   "execution_count": null,
   "id": "f6c47094-d0d5-4d19-a97e-6110edbebb01",
   "metadata": {},
   "outputs": [],
   "source": [
    "df['Temp_C'].resample('QE').mean().plot(kind='line');"
   ]
  },
  {
   "cell_type": "code",
   "execution_count": null,
   "id": "9fdbdb4f-f178-47e4-b6a8-4642924f9b13",
   "metadata": {},
   "outputs": [],
   "source": [
    "df['Temp_C'].resample('ME').mean().plot(kind='line');"
   ]
  },
  {
   "cell_type": "code",
   "execution_count": null,
   "id": "01fc1f37-2f50-43e9-8f67-aa2678888663",
   "metadata": {},
   "outputs": [],
   "source": [
    "df['Temp_C'].resample('D').mean().plot(kind='line');"
   ]
  },
  {
   "cell_type": "code",
   "execution_count": null,
   "id": "bf05ec24-21ea-43da-acda-2c042ada92ce",
   "metadata": {},
   "outputs": [],
   "source": [
    "df[['Temp_C', 'Dew_Point_Temp_C', 'Rel_Hum_%', 'Wind_Speed_km/h','Visibility_km', 'Press_kPa']]\\\n",
    ".resample('ME').mean().plot(kind='line',figsize=(12, 5) );"
   ]
  },
  {
   "cell_type": "code",
   "execution_count": null,
   "id": "f09c877d-5fdc-471c-9f77-5e5c579ff63e",
   "metadata": {},
   "outputs": [],
   "source": [
    "df[['Temp_C','Dew_Point_Temp_C']].plot.density();"
   ]
  }
 ],
 "metadata": {
  "kernelspec": {
   "display_name": "Python 3 (ipykernel)",
   "language": "python",
   "name": "python3"
  },
  "language_info": {
   "codemirror_mode": {
    "name": "ipython",
    "version": 3
   },
   "file_extension": ".py",
   "mimetype": "text/x-python",
   "name": "python",
   "nbconvert_exporter": "python",
   "pygments_lexer": "ipython3",
   "version": "3.11.9"
  }
 },
 "nbformat": 4,
 "nbformat_minor": 5
}
